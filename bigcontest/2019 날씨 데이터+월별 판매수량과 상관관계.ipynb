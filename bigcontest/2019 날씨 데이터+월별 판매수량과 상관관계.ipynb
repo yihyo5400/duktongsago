{
 "cells": [
  {
   "cell_type": "code",
   "execution_count": 82,
   "metadata": {},
   "outputs": [],
   "source": [
    "import requests\n",
    "import calendar\n",
    "import datetime"
   ]
  },
  {
   "cell_type": "code",
   "execution_count": 83,
   "metadata": {},
   "outputs": [],
   "source": [
    "data = []\n",
    "now = datetime.datetime.now()\n",
    "nowyear = now.strftime('%Y')\n",
    "nowmonth = now.strftime('%m')"
   ]
  },
  {
   "cell_type": "code",
   "execution_count": 84,
   "metadata": {},
   "outputs": [
    {
     "name": "stdout",
     "output_type": "stream",
     "text": [
      "y : 2019year : 2020\n"
     ]
    },
    {
     "ename": "NameError",
     "evalue": "name 'bs' is not defined",
     "output_type": "error",
     "traceback": [
      "\u001b[1;31m---------------------------------------------------------------------------\u001b[0m",
      "\u001b[1;31mNameError\u001b[0m                                 Traceback (most recent call last)",
      "\u001b[1;32m<ipython-input-84-562fcbc4faa4>\u001b[0m in \u001b[0;36m<module>\u001b[1;34m\u001b[0m\n\u001b[0;32m      8\u001b[0m     \u001b[1;32mfor\u001b[0m \u001b[0mm\u001b[0m \u001b[1;32min\u001b[0m \u001b[0mrange\u001b[0m\u001b[1;33m(\u001b[0m\u001b[1;36m1\u001b[0m\u001b[1;33m,\u001b[0m\u001b[0mmonthrange\u001b[0m\u001b[1;33m)\u001b[0m\u001b[1;33m:\u001b[0m\u001b[1;33m\u001b[0m\u001b[1;33m\u001b[0m\u001b[0m\n\u001b[0;32m      9\u001b[0m         \u001b[0mresponse\u001b[0m \u001b[1;33m=\u001b[0m \u001b[0mrequests\u001b[0m\u001b[1;33m.\u001b[0m\u001b[0mget\u001b[0m\u001b[1;33m(\u001b[0m\u001b[1;34m'http://www.kma.go.kr/weather/climate/past_cal.jsp?stn=108&yy='\u001b[0m\u001b[1;33m+\u001b[0m\u001b[0mstr\u001b[0m\u001b[1;33m(\u001b[0m\u001b[0my\u001b[0m\u001b[1;33m)\u001b[0m\u001b[1;33m+\u001b[0m\u001b[1;34m'&mm='\u001b[0m\u001b[1;33m+\u001b[0m\u001b[0mstr\u001b[0m\u001b[1;33m(\u001b[0m\u001b[0mm\u001b[0m\u001b[1;33m)\u001b[0m\u001b[1;33m+\u001b[0m\u001b[1;34m'&obs=1'\u001b[0m\u001b[1;33m)\u001b[0m\u001b[1;33m\u001b[0m\u001b[1;33m\u001b[0m\u001b[0m\n\u001b[1;32m---> 10\u001b[1;33m         \u001b[0msoup\u001b[0m \u001b[1;33m=\u001b[0m \u001b[0mbs\u001b[0m\u001b[1;33m(\u001b[0m\u001b[0mresponse\u001b[0m\u001b[1;33m.\u001b[0m\u001b[0mcontent\u001b[0m\u001b[1;33m,\u001b[0m \u001b[1;34m'html.parser'\u001b[0m\u001b[1;33m)\u001b[0m\u001b[1;33m\u001b[0m\u001b[1;33m\u001b[0m\u001b[0m\n\u001b[0m\u001b[0;32m     11\u001b[0m         \u001b[0mtable\u001b[0m \u001b[1;33m=\u001b[0m \u001b[0msoup\u001b[0m\u001b[1;33m.\u001b[0m\u001b[0mfind\u001b[0m\u001b[1;33m(\u001b[0m\u001b[1;34m'table'\u001b[0m\u001b[1;33m,\u001b[0m \u001b[1;33m{\u001b[0m\u001b[1;34m'class'\u001b[0m\u001b[1;33m:\u001b[0m \u001b[1;34m'table_develop'\u001b[0m\u001b[1;33m}\u001b[0m\u001b[1;33m)\u001b[0m\u001b[1;33m\u001b[0m\u001b[1;33m\u001b[0m\u001b[0m\n\u001b[0;32m     12\u001b[0m \u001b[1;33m\u001b[0m\u001b[0m\n",
      "\u001b[1;31mNameError\u001b[0m: name 'bs' is not defined"
     ]
    }
   ],
   "source": [
    "for y in range(2019,2020):\n",
    "    print('y : '+str(y) + 'year : ' + str(nowyear))\n",
    "    if str(y)==str(nowyear):\n",
    "        monthrange = int(nowmonth)+1\n",
    "    else:\n",
    "        monthrange = 13\n",
    "        \n",
    "    for m in range(1,monthrange):\n",
    "        response = requests.get('http://www.kma.go.kr/weather/climate/past_cal.jsp?stn=108&yy='+str(y)+'&mm='+str(m)+'&obs=1')\n",
    "        soup = bs(response.content, 'html.parser')\n",
    "        table = soup.find('table', {'class': 'table_develop'})  \n",
    "\n",
    "        count = 0\n",
    "        point = [''] * 7\n",
    "        pointt = [''] * 7\n",
    "        fstr = [''] * 7\n",
    "        tstr = [''] * 7\n",
    "        mstr = [''] * 7\n",
    "        estr = [''] * 7\n",
    "        temp = [''] * 7\n",
    "        temptop = [''] * 7\n",
    "        tempmin = [''] * 7\n",
    "        rain = [''] * 7\n",
    "        \n",
    "        for tr in table.find_all('tr'):\n",
    "            tds = list(tr.find_all('td'))\n",
    "    \n",
    "            if tds:\n",
    "                for i in range(0,7):\n",
    "                    point[i] = tds[i].text\n",
    "        \n",
    "                if count%2!=0:\n",
    "                    for j in range(0,7):\n",
    "                        pointt[j] = point[j].translate({ord('일'):''})\n",
    "            \n",
    "                if count%2==0:\n",
    "                    for k in range(0,7):\n",
    "                        fstr[k] = point[k].find('최고기온')\n",
    "                        tstr[k] = point[k].find('최저기온')\n",
    "                        mstr[k] = point[k].find('평균운량')\n",
    "                        estr[k] = point[k].find('일강수량')\n",
    "                        temp[k] = point[k][5:fstr[k]].translate({ord('℃'):''})\n",
    "                        temptop[k] = point[k][fstr[k]+5:tstr[k]].translate({ord('℃'):''})\n",
    "                        tempmin[k] = point[k][tstr[k]+5:mstr[k]].translate({ord('℃'):''})\n",
    "                        rain[k] = point[k][estr[k]+5:].translate({ord(' '):'',ord('-'):'0.0',ord('m'):''})\n",
    "                \n",
    "                    if pointt[0]=='\\xa0' or temp[0]=='':\n",
    "                        sun = \"\"\n",
    "                    else:\n",
    "                        sun = str(y)+'-'+str(m)+'-'+pointt[0]+' '+temp[0]+' '+temptop[0]+' '+tempmin[0]+' '+rain[0]\n",
    "                        data.append([sun])\n",
    "            \n",
    "                    if pointt[1]=='\\xa0' or temp[1]=='':\n",
    "                        mon = \"\"\n",
    "                    else:\n",
    "                        mon = str(y)+'-'+str(m)+'-'+pointt[1]+' '+temp[1]+' '+temptop[1]+' '+tempmin[1]+' '+rain[1]\n",
    "                        data.append([mon])\n",
    "            \n",
    "                    if pointt[2]=='\\xa0' or temp[2]=='':\n",
    "                        tue = \"\"\n",
    "                    else:\n",
    "                        tue = str(y)+'-'+str(m)+'-'+pointt[2]+' '+temp[2]+' '+temptop[2]+' '+tempmin[2]+' '+rain[2]\n",
    "                        data.append([tue])\n",
    "            \n",
    "                    if pointt[3]=='\\xa0' or temp[3]=='':\n",
    "                        wed = \"\"\n",
    "                    else:\n",
    "                        wed = str(y)+'-'+str(m)+'-'+pointt[3]+' '+temp[3]+' '+temptop[3]+' '+tempmin[3]+' '+rain[3]\n",
    "                        data.append([wed])\n",
    "            \n",
    "                    if pointt[4]=='\\xa0' or temp[4]=='':\n",
    "                        thu = \"\"\n",
    "                    else:\n",
    "                        thu = str(y)+'-'+str(m)+'-'+pointt[4]+' '+temp[4]+' '+temptop[4]+' '+tempmin[4]+' '+rain[4]\n",
    "                        data.append([thu])\n",
    "            \n",
    "                    if pointt[5]=='\\xa0' or temp[5]=='':\n",
    "                        fri = \"\"\n",
    "                    else:\n",
    "                        fri = str(y)+'-'+str(m)+'-'+pointt[5]+' '+temp[5]+' '+temptop[5]+' '+tempmin[5]+' '+rain[5]\n",
    "                        data.append([fri])\n",
    "            \n",
    "                    if pointt[6]=='\\xa0' or temp[6]=='':\n",
    "                        sat = \"\"\n",
    "                    else:\n",
    "                        sat = str(y)+'-'+str(m)+'-'+pointt[6]+' '+temp[6]+' '+temptop[6]+' '+tempmin[6]+' '+rain[6]\n",
    "                        data.append([sat])\n",
    "            \n",
    "                    print(sun)\n",
    "                    print(mon)\n",
    "                    print(tue)\n",
    "                    print(wed)\n",
    "                    print(thu)\n",
    "                    print(fri)\n",
    "                    print(sat)\n",
    "            count+=1\n"
   ]
  },
  {
   "cell_type": "markdown",
   "metadata": {},
   "source": [
    "# 이거 긁어서 txt파일로 만듦"
   ]
  },
  {
   "cell_type": "code",
   "execution_count": 158,
   "metadata": {},
   "outputs": [],
   "source": [
    "import pandas as pd\n",
    "weader=pd.read_csv(\"C:/Users/hyeyo/AppData/Local/Programs/Python/Python37-32/기상청.txt\", sep=' ')"
   ]
  },
  {
   "cell_type": "code",
   "execution_count": 159,
   "metadata": {},
   "outputs": [
    {
     "data": {
      "text/html": [
       "<div>\n",
       "<style scoped>\n",
       "    .dataframe tbody tr th:only-of-type {\n",
       "        vertical-align: middle;\n",
       "    }\n",
       "\n",
       "    .dataframe tbody tr th {\n",
       "        vertical-align: top;\n",
       "    }\n",
       "\n",
       "    .dataframe thead th {\n",
       "        text-align: right;\n",
       "    }\n",
       "</style>\n",
       "<table border=\"1\" class=\"dataframe\">\n",
       "  <thead>\n",
       "    <tr style=\"text-align: right;\">\n",
       "      <th></th>\n",
       "      <th>날짜</th>\n",
       "      <th>평균기온</th>\n",
       "      <th>최고기온</th>\n",
       "      <th>최저기온</th>\n",
       "      <th>평균운량</th>\n",
       "    </tr>\n",
       "  </thead>\n",
       "  <tbody>\n",
       "    <tr>\n",
       "      <th>0</th>\n",
       "      <td>2019-1-1</td>\n",
       "      <td>-5.0</td>\n",
       "      <td>-0.6</td>\n",
       "      <td>-8.2</td>\n",
       "      <td>0.0</td>\n",
       "    </tr>\n",
       "    <tr>\n",
       "      <th>1</th>\n",
       "      <td>2019-1-2</td>\n",
       "      <td>-4.9</td>\n",
       "      <td>0.2</td>\n",
       "      <td>-8.8</td>\n",
       "      <td>0.0</td>\n",
       "    </tr>\n",
       "    <tr>\n",
       "      <th>2</th>\n",
       "      <td>2019-1-3</td>\n",
       "      <td>-3.5</td>\n",
       "      <td>3.2</td>\n",
       "      <td>-8.4</td>\n",
       "      <td>0.0</td>\n",
       "    </tr>\n",
       "    <tr>\n",
       "      <th>3</th>\n",
       "      <td>2019-1-4</td>\n",
       "      <td>-1.1</td>\n",
       "      <td>4.1</td>\n",
       "      <td>-6.2</td>\n",
       "      <td>0.0</td>\n",
       "    </tr>\n",
       "    <tr>\n",
       "      <th>4</th>\n",
       "      <td>2019-1-5</td>\n",
       "      <td>-2.8</td>\n",
       "      <td>1.1</td>\n",
       "      <td>-5.5</td>\n",
       "      <td>0.0</td>\n",
       "    </tr>\n",
       "  </tbody>\n",
       "</table>\n",
       "</div>"
      ],
      "text/plain": [
       "         날짜  평균기온  최고기온  최저기온  평균운량\n",
       "0  2019-1-1  -5.0  -0.6  -8.2   0.0\n",
       "1  2019-1-2  -4.9   0.2  -8.8   0.0\n",
       "2  2019-1-3  -3.5   3.2  -8.4   0.0\n",
       "3  2019-1-4  -1.1   4.1  -6.2   0.0\n",
       "4  2019-1-5  -2.8   1.1  -5.5   0.0"
      ]
     },
     "execution_count": 159,
     "metadata": {},
     "output_type": "execute_result"
    }
   ],
   "source": [
    "weader.head()"
   ]
  },
  {
   "cell_type": "code",
   "execution_count": 160,
   "metadata": {},
   "outputs": [],
   "source": [
    "a=weader.loc[weader['날짜'].str.contains('2019-1-',na=False)].mean()\n",
    "b=weader.loc[weader['날짜'].str.contains('2019-2-',na=False)].mean()\n",
    "c=weader.loc[weader['날짜'].str.contains('2019-3-',na=False)].mean()\n",
    "d=weader.loc[weader['날짜'].str.contains('2019-4-',na=False)].mean()\n",
    "e=weader.loc[weader['날짜'].str.contains('2019-5-',na=False)].mean()\n",
    "f=weader.loc[weader['날짜'].str.contains('2019-6-',na=False)].mean()\n",
    "g=weader.loc[weader['날짜'].str.contains('2019-7-',na=False)].mean()\n",
    "h=weader.loc[weader['날짜'].str.contains('2019-8-',na=False)].mean()\n",
    "i=weader.loc[weader['날짜'].str.contains('2019-9-',na=False)].mean()\n",
    "j=weader.loc[weader['날짜'].str.contains('2019-10-',na=False)].mean()\n",
    "k=weader.loc[weader['날짜'].str.contains('2019-11-',na=False)].mean()\n",
    "l=weader.loc[weader['날짜'].str.contains('2019-12-',na=False)].mean()"
   ]
  },
  {
   "cell_type": "code",
   "execution_count": 161,
   "metadata": {
    "scrolled": true
   },
   "outputs": [
    {
     "data": {
      "text/html": [
       "<div>\n",
       "<style scoped>\n",
       "    .dataframe tbody tr th:only-of-type {\n",
       "        vertical-align: middle;\n",
       "    }\n",
       "\n",
       "    .dataframe tbody tr th {\n",
       "        vertical-align: top;\n",
       "    }\n",
       "\n",
       "    .dataframe thead th {\n",
       "        text-align: right;\n",
       "    }\n",
       "</style>\n",
       "<table border=\"1\" class=\"dataframe\">\n",
       "  <thead>\n",
       "    <tr style=\"text-align: right;\">\n",
       "      <th></th>\n",
       "      <th>0</th>\n",
       "      <th>1</th>\n",
       "      <th>2</th>\n",
       "      <th>3</th>\n",
       "      <th>4</th>\n",
       "      <th>5</th>\n",
       "      <th>6</th>\n",
       "      <th>7</th>\n",
       "      <th>8</th>\n",
       "      <th>9</th>\n",
       "      <th>10</th>\n",
       "      <th>11</th>\n",
       "    </tr>\n",
       "  </thead>\n",
       "  <tbody>\n",
       "    <tr>\n",
       "      <th>평균기온</th>\n",
       "      <td>-0.896774</td>\n",
       "      <td>0.985714</td>\n",
       "      <td>7.093548</td>\n",
       "      <td>12.120000</td>\n",
       "      <td>19.419355</td>\n",
       "      <td>22.503333</td>\n",
       "      <td>25.877419</td>\n",
       "      <td>27.190323</td>\n",
       "      <td>22.643333</td>\n",
       "      <td>16.370968</td>\n",
       "      <td>7.580000</td>\n",
       "      <td>1.416129</td>\n",
       "    </tr>\n",
       "    <tr>\n",
       "      <th>최고기온</th>\n",
       "      <td>4.087097</td>\n",
       "      <td>6.046429</td>\n",
       "      <td>12.445161</td>\n",
       "      <td>17.640000</td>\n",
       "      <td>25.641935</td>\n",
       "      <td>27.706667</td>\n",
       "      <td>30.087097</td>\n",
       "      <td>31.635484</td>\n",
       "      <td>27.100000</td>\n",
       "      <td>21.767742</td>\n",
       "      <td>12.933333</td>\n",
       "      <td>5.274194</td>\n",
       "    </tr>\n",
       "    <tr>\n",
       "      <th>최저기온</th>\n",
       "      <td>-5.064516</td>\n",
       "      <td>-3.217857</td>\n",
       "      <td>2.745161</td>\n",
       "      <td>7.176667</td>\n",
       "      <td>13.729032</td>\n",
       "      <td>18.060000</td>\n",
       "      <td>22.683871</td>\n",
       "      <td>23.590323</td>\n",
       "      <td>18.963333</td>\n",
       "      <td>11.800000</td>\n",
       "      <td>3.100000</td>\n",
       "      <td>-2.603226</td>\n",
       "    </tr>\n",
       "    <tr>\n",
       "      <th>평균운량</th>\n",
       "      <td>0.000000</td>\n",
       "      <td>0.850000</td>\n",
       "      <td>0.864516</td>\n",
       "      <td>1.576667</td>\n",
       "      <td>1.219355</td>\n",
       "      <td>2.480000</td>\n",
       "      <td>6.270968</td>\n",
       "      <td>6.145161</td>\n",
       "      <td>4.660000</td>\n",
       "      <td>1.790323</td>\n",
       "      <td>2.626667</td>\n",
       "      <td>0.729032</td>\n",
       "    </tr>\n",
       "  </tbody>\n",
       "</table>\n",
       "</div>"
      ],
      "text/plain": [
       "             0         1          2          3          4          5  \\\n",
       "평균기온 -0.896774  0.985714   7.093548  12.120000  19.419355  22.503333   \n",
       "최고기온  4.087097  6.046429  12.445161  17.640000  25.641935  27.706667   \n",
       "최저기온 -5.064516 -3.217857   2.745161   7.176667  13.729032  18.060000   \n",
       "평균운량  0.000000  0.850000   0.864516   1.576667   1.219355   2.480000   \n",
       "\n",
       "              6          7          8          9         10        11  \n",
       "평균기온  25.877419  27.190323  22.643333  16.370968   7.580000  1.416129  \n",
       "최고기온  30.087097  31.635484  27.100000  21.767742  12.933333  5.274194  \n",
       "최저기온  22.683871  23.590323  18.963333  11.800000   3.100000 -2.603226  \n",
       "평균운량   6.270968   6.145161   4.660000   1.790323   2.626667  0.729032  "
      ]
     },
     "execution_count": 161,
     "metadata": {},
     "output_type": "execute_result"
    }
   ],
   "source": [
    "w2=pd.concat([a,b,c,d,e,f,g,h,i,j,k,l], axis=1)\n",
    "w2"
   ]
  },
  {
   "cell_type": "code",
   "execution_count": 162,
   "metadata": {},
   "outputs": [],
   "source": [
    "w2.columns=['1','2','3','4','5','6','7','8','9','10','11','12']"
   ]
  },
  {
   "cell_type": "code",
   "execution_count": 163,
   "metadata": {},
   "outputs": [],
   "source": [
    "from pandas import DataFrame "
   ]
  },
  {
   "cell_type": "code",
   "execution_count": 164,
   "metadata": {},
   "outputs": [],
   "source": [
    "import matplotlib"
   ]
  },
  {
   "cell_type": "code",
   "execution_count": 165,
   "metadata": {},
   "outputs": [],
   "source": [
    "from matplotlib import pyplot as plt\n"
   ]
  },
  {
   "cell_type": "code",
   "execution_count": 166,
   "metadata": {},
   "outputs": [
    {
     "name": "stdout",
     "output_type": "stream",
     "text": [
      "['NanumGothic']\n"
     ]
    }
   ],
   "source": [
    "plt.rc('font', family='NanumGothic') # For Windows\n",
    "print(plt.rcParams['font.family'])"
   ]
  },
  {
   "cell_type": "code",
   "execution_count": 167,
   "metadata": {},
   "outputs": [],
   "source": [
    "w4=w2.iloc[0]\n",
    "\n",
    "\n",
    "w4=DataFrame(w4)\n"
   ]
  },
  {
   "cell_type": "code",
   "execution_count": 168,
   "metadata": {
    "scrolled": true
   },
   "outputs": [
    {
     "data": {
      "image/png": "[encoded data removed]",
      "text/plain": [
       "<Figure size 432x288 with 1 Axes>"
      ]
     },
     "metadata": {
      "needs_background": "light"
     },
     "output_type": "display_data"
    }
   ],
   "source": [
    "plt.plot(w4)\n",
    "plt.xlabel('월별 평균기온')\n",
    "plt.show()"
   ]
  },
  {
   "cell_type": "code",
   "execution_count": 169,
   "metadata": {},
   "outputs": [],
   "source": [
    "import numpy as np\n",
    "from scipy import stats"
   ]
  },
  {
   "cell_type": "code",
   "execution_count": 205,
   "metadata": {},
   "outputs": [
    {
     "name": "stdout",
     "output_type": "stream",
     "text": [
      "          평균기온      최고기온      최저기온      평균운량\n",
      "평균기온  1.000000  0.988765  0.989139  0.191019\n",
      "최고기온  0.988765  1.000000  0.960860  0.133119\n",
      "최저기온  0.989139  0.960860  1.000000  0.239778\n",
      "평균운량  0.191019  0.133119  0.239778  1.000000\n"
     ]
    }
   ],
   "source": [
    "#날씨 데이터끼리 상관관계\n",
    "\n",
    "corrMatt = weader[[\"평균기온\",\"최고기온\",\"최저기온\",\"평균운량\"]]\n",
    "corrMatt = corrMatt.corr()\n",
    "print(corrMatt)\n",
    "\n",
    "mask = np.array(corrMatt)\n",
    "mask[np.tril_indices_from(mask)] = False    "
   ]
  },
  {
   "cell_type": "code",
   "execution_count": 206,
   "metadata": {},
   "outputs": [
    {
     "data": {
      "text/plain": [
       "<AxesSubplot:>"
      ]
     },
     "execution_count": 206,
     "metadata": {},
     "output_type": "execute_result"
    },
    {
     "data": {
      "image/png": "[encoded data removed]",
      "text/plain": [
       "<Figure size 1440x720 with 2 Axes>"
      ]
     },
     "metadata": {
      "needs_background": "light"
     },
     "output_type": "display_data"
    }
   ],
   "source": [
    "fig, ax = plt.subplots()\n",
    "fig.set_size_inches(20,10)\n",
    "sns.heatmap(corrMatt, mask=mask,vmax=.8, square=True,annot=True)"
   ]
  },
  {
   "cell_type": "code",
   "execution_count": 207,
   "metadata": {},
   "outputs": [
    {
     "data": {
      "text/html": [
       "<div>\n",
       "<style scoped>\n",
       "    .dataframe tbody tr th:only-of-type {\n",
       "        vertical-align: middle;\n",
       "    }\n",
       "\n",
       "    .dataframe tbody tr th {\n",
       "        vertical-align: top;\n",
       "    }\n",
       "\n",
       "    .dataframe thead th {\n",
       "        text-align: right;\n",
       "    }\n",
       "</style>\n",
       "<table border=\"1\" class=\"dataframe\">\n",
       "  <thead>\n",
       "    <tr style=\"text-align: right;\">\n",
       "      <th></th>\n",
       "      <th>방송일시</th>\n",
       "      <th>판매수량</th>\n",
       "    </tr>\n",
       "  </thead>\n",
       "  <tbody>\n",
       "    <tr>\n",
       "      <th>0</th>\n",
       "      <td>2019-01-31</td>\n",
       "      <td>9.433661e+05</td>\n",
       "    </tr>\n",
       "    <tr>\n",
       "      <th>1</th>\n",
       "      <td>2019-02-28</td>\n",
       "      <td>7.504978e+05</td>\n",
       "    </tr>\n",
       "    <tr>\n",
       "      <th>2</th>\n",
       "      <td>2019-03-31</td>\n",
       "      <td>8.155749e+05</td>\n",
       "    </tr>\n",
       "    <tr>\n",
       "      <th>3</th>\n",
       "      <td>2019-04-30</td>\n",
       "      <td>7.610234e+05</td>\n",
       "    </tr>\n",
       "    <tr>\n",
       "      <th>4</th>\n",
       "      <td>2019-05-31</td>\n",
       "      <td>8.702882e+05</td>\n",
       "    </tr>\n",
       "    <tr>\n",
       "      <th>5</th>\n",
       "      <td>2019-06-30</td>\n",
       "      <td>8.740217e+05</td>\n",
       "    </tr>\n",
       "    <tr>\n",
       "      <th>6</th>\n",
       "      <td>2019-07-31</td>\n",
       "      <td>9.578300e+05</td>\n",
       "    </tr>\n",
       "    <tr>\n",
       "      <th>7</th>\n",
       "      <td>2019-08-31</td>\n",
       "      <td>1.065119e+06</td>\n",
       "    </tr>\n",
       "    <tr>\n",
       "      <th>8</th>\n",
       "      <td>2019-09-30</td>\n",
       "      <td>9.483786e+05</td>\n",
       "    </tr>\n",
       "    <tr>\n",
       "      <th>9</th>\n",
       "      <td>2019-10-31</td>\n",
       "      <td>9.991663e+05</td>\n",
       "    </tr>\n",
       "    <tr>\n",
       "      <th>10</th>\n",
       "      <td>2019-11-30</td>\n",
       "      <td>1.011114e+06</td>\n",
       "    </tr>\n",
       "    <tr>\n",
       "      <th>11</th>\n",
       "      <td>2019-12-31</td>\n",
       "      <td>1.139620e+06</td>\n",
       "    </tr>\n",
       "    <tr>\n",
       "      <th>12</th>\n",
       "      <td>2020-01-31</td>\n",
       "      <td>1.309538e+03</td>\n",
       "    </tr>\n",
       "  </tbody>\n",
       "</table>\n",
       "</div>"
      ],
      "text/plain": [
       "          방송일시          판매수량\n",
       "0   2019-01-31  9.433661e+05\n",
       "1   2019-02-28  7.504978e+05\n",
       "2   2019-03-31  8.155749e+05\n",
       "3   2019-04-30  7.610234e+05\n",
       "4   2019-05-31  8.702882e+05\n",
       "5   2019-06-30  8.740217e+05\n",
       "6   2019-07-31  9.578300e+05\n",
       "7   2019-08-31  1.065119e+06\n",
       "8   2019-09-30  9.483786e+05\n",
       "9   2019-10-31  9.991663e+05\n",
       "10  2019-11-30  1.011114e+06\n",
       "11  2019-12-31  1.139620e+06\n",
       "12  2020-01-31  1.309538e+03"
      ]
     },
     "execution_count": 207,
     "metadata": {},
     "output_type": "execute_result"
    }
   ],
   "source": [
    "#preprocessing에서 월별 판매수량 데이터를 csv파일로 저장 후 불러냄\n",
    "\n",
    "d=pd.read_csv(\"C:/Users/hyeyo/월별.csv\")\n",
    "d"
   ]
  },
  {
   "cell_type": "code",
   "execution_count": 208,
   "metadata": {},
   "outputs": [],
   "source": [
    "dd=d['판매수량']\n"
   ]
  },
  {
   "cell_type": "code",
   "execution_count": 209,
   "metadata": {},
   "outputs": [
    {
     "name": "stderr",
     "output_type": "stream",
     "text": [
      "c:\\users\\hyeyo\\appdata\\local\\programs\\python\\python37-32\\lib\\site-packages\\ipykernel_launcher.py:2: SettingWithCopyWarning: \n",
      "A value is trying to be set on a copy of a slice from a DataFrame\n",
      "\n",
      "See the caveats in the documentation: https://pandas.pydata.org/pandas-docs/stable/user_guide/indexing.html#returning-a-view-versus-a-copy\n",
      "  \n"
     ]
    }
   ],
   "source": [
    "#12월에서 차기 1월로 넘어가는 데이터 12월에 합치기\n",
    "dd[11]=dd[11]+dd[12]\n"
   ]
  },
  {
   "cell_type": "code",
   "execution_count": 210,
   "metadata": {},
   "outputs": [
    {
     "data": {
      "text/plain": [
       "1309.5381019925182"
      ]
     },
     "execution_count": 210,
     "metadata": {},
     "output_type": "execute_result"
    }
   ],
   "source": [
    "dd.pop(12)"
   ]
  },
  {
   "cell_type": "code",
   "execution_count": 211,
   "metadata": {},
   "outputs": [
    {
     "data": {
      "text/plain": [
       "0     9.433661e+05\n",
       "1     7.504978e+05\n",
       "2     8.155749e+05\n",
       "3     7.610234e+05\n",
       "4     8.702882e+05\n",
       "5     8.740217e+05\n",
       "6     9.578300e+05\n",
       "7     1.065119e+06\n",
       "8     9.483786e+05\n",
       "9     9.991663e+05\n",
       "10    1.011114e+06\n",
       "11    1.140930e+06\n",
       "Name: 판매수량, dtype: float64"
      ]
     },
     "execution_count": 211,
     "metadata": {},
     "output_type": "execute_result"
    }
   ],
   "source": [
    "dd"
   ]
  },
  {
   "cell_type": "code",
   "execution_count": 212,
   "metadata": {},
   "outputs": [],
   "source": [
    "#리스트로 변환\n",
    "dd=dd.tolist()"
   ]
  },
  {
   "cell_type": "code",
   "execution_count": 213,
   "metadata": {},
   "outputs": [
    {
     "data": {
      "text/html": [
       "<div>\n",
       "<style scoped>\n",
       "    .dataframe tbody tr th:only-of-type {\n",
       "        vertical-align: middle;\n",
       "    }\n",
       "\n",
       "    .dataframe tbody tr th {\n",
       "        vertical-align: top;\n",
       "    }\n",
       "\n",
       "    .dataframe thead th {\n",
       "        text-align: right;\n",
       "    }\n",
       "</style>\n",
       "<table border=\"1\" class=\"dataframe\">\n",
       "  <thead>\n",
       "    <tr style=\"text-align: right;\">\n",
       "      <th></th>\n",
       "      <th>1</th>\n",
       "      <th>2</th>\n",
       "      <th>3</th>\n",
       "      <th>4</th>\n",
       "      <th>5</th>\n",
       "      <th>6</th>\n",
       "      <th>7</th>\n",
       "      <th>8</th>\n",
       "      <th>9</th>\n",
       "      <th>10</th>\n",
       "      <th>11</th>\n",
       "      <th>12</th>\n",
       "    </tr>\n",
       "  </thead>\n",
       "  <tbody>\n",
       "    <tr>\n",
       "      <th>평균기온</th>\n",
       "      <td>-0.896774</td>\n",
       "      <td>0.985714</td>\n",
       "      <td>7.093548</td>\n",
       "      <td>12.120000</td>\n",
       "      <td>19.419355</td>\n",
       "      <td>22.503333</td>\n",
       "      <td>25.877419</td>\n",
       "      <td>27.190323</td>\n",
       "      <td>22.643333</td>\n",
       "      <td>16.370968</td>\n",
       "      <td>7.580000</td>\n",
       "      <td>1.416129</td>\n",
       "    </tr>\n",
       "    <tr>\n",
       "      <th>최고기온</th>\n",
       "      <td>4.087097</td>\n",
       "      <td>6.046429</td>\n",
       "      <td>12.445161</td>\n",
       "      <td>17.640000</td>\n",
       "      <td>25.641935</td>\n",
       "      <td>27.706667</td>\n",
       "      <td>30.087097</td>\n",
       "      <td>31.635484</td>\n",
       "      <td>27.100000</td>\n",
       "      <td>21.767742</td>\n",
       "      <td>12.933333</td>\n",
       "      <td>5.274194</td>\n",
       "    </tr>\n",
       "    <tr>\n",
       "      <th>최저기온</th>\n",
       "      <td>-5.064516</td>\n",
       "      <td>-3.217857</td>\n",
       "      <td>2.745161</td>\n",
       "      <td>7.176667</td>\n",
       "      <td>13.729032</td>\n",
       "      <td>18.060000</td>\n",
       "      <td>22.683871</td>\n",
       "      <td>23.590323</td>\n",
       "      <td>18.963333</td>\n",
       "      <td>11.800000</td>\n",
       "      <td>3.100000</td>\n",
       "      <td>-2.603226</td>\n",
       "    </tr>\n",
       "    <tr>\n",
       "      <th>평균운량</th>\n",
       "      <td>0.000000</td>\n",
       "      <td>0.850000</td>\n",
       "      <td>0.864516</td>\n",
       "      <td>1.576667</td>\n",
       "      <td>1.219355</td>\n",
       "      <td>2.480000</td>\n",
       "      <td>6.270968</td>\n",
       "      <td>6.145161</td>\n",
       "      <td>4.660000</td>\n",
       "      <td>1.790323</td>\n",
       "      <td>2.626667</td>\n",
       "      <td>0.729032</td>\n",
       "    </tr>\n",
       "  </tbody>\n",
       "</table>\n",
       "</div>"
      ],
      "text/plain": [
       "             1         2          3          4          5          6  \\\n",
       "평균기온 -0.896774  0.985714   7.093548  12.120000  19.419355  22.503333   \n",
       "최고기온  4.087097  6.046429  12.445161  17.640000  25.641935  27.706667   \n",
       "최저기온 -5.064516 -3.217857   2.745161   7.176667  13.729032  18.060000   \n",
       "평균운량  0.000000  0.850000   0.864516   1.576667   1.219355   2.480000   \n",
       "\n",
       "              7          8          9         10         11        12  \n",
       "평균기온  25.877419  27.190323  22.643333  16.370968   7.580000  1.416129  \n",
       "최고기온  30.087097  31.635484  27.100000  21.767742  12.933333  5.274194  \n",
       "최저기온  22.683871  23.590323  18.963333  11.800000   3.100000 -2.603226  \n",
       "평균운량   6.270968   6.145161   4.660000   1.790323   2.626667  0.729032  "
      ]
     },
     "execution_count": 213,
     "metadata": {},
     "output_type": "execute_result"
    }
   ],
   "source": [
    "w2"
   ]
  },
  {
   "cell_type": "code",
   "execution_count": 214,
   "metadata": {},
   "outputs": [],
   "source": [
    "w22 = w2.append(pd.Series(dd, index=w2.columns),ignore_index=True)"
   ]
  },
  {
   "cell_type": "code",
   "execution_count": 215,
   "metadata": {},
   "outputs": [
    {
     "data": {
      "text/plain": [
       "[943366.0658023931,\n",
       " 750497.8400373077,\n",
       " 815574.9095497133,\n",
       " 761023.4134817887,\n",
       " 870288.223008002,\n",
       " 874021.7219488728,\n",
       " 957830.0306277135,\n",
       " 1065119.4340086165,\n",
       " 948378.6404272593,\n",
       " 999166.2603801936,\n",
       " 1011113.5904771264,\n",
       " 1140929.5113277046]"
      ]
     },
     "execution_count": 215,
     "metadata": {},
     "output_type": "execute_result"
    }
   ],
   "source": [
    "dd"
   ]
  },
  {
   "cell_type": "code",
   "execution_count": 217,
   "metadata": {},
   "outputs": [
    {
     "data": {
      "text/html": [
       "<div>\n",
       "<style scoped>\n",
       "    .dataframe tbody tr th:only-of-type {\n",
       "        vertical-align: middle;\n",
       "    }\n",
       "\n",
       "    .dataframe tbody tr th {\n",
       "        vertical-align: top;\n",
       "    }\n",
       "\n",
       "    .dataframe thead th {\n",
       "        text-align: right;\n",
       "    }\n",
       "</style>\n",
       "<table border=\"1\" class=\"dataframe\">\n",
       "  <thead>\n",
       "    <tr style=\"text-align: right;\">\n",
       "      <th></th>\n",
       "      <th>1</th>\n",
       "      <th>2</th>\n",
       "      <th>3</th>\n",
       "      <th>4</th>\n",
       "      <th>5</th>\n",
       "      <th>6</th>\n",
       "      <th>7</th>\n",
       "      <th>8</th>\n",
       "      <th>9</th>\n",
       "      <th>10</th>\n",
       "      <th>11</th>\n",
       "      <th>12</th>\n",
       "    </tr>\n",
       "  </thead>\n",
       "  <tbody>\n",
       "    <tr>\n",
       "      <th>0</th>\n",
       "      <td>-0.896774</td>\n",
       "      <td>0.985714</td>\n",
       "      <td>7.093548</td>\n",
       "      <td>12.120000</td>\n",
       "      <td>19.419355</td>\n",
       "      <td>22.503333</td>\n",
       "      <td>25.877419</td>\n",
       "      <td>2.719032e+01</td>\n",
       "      <td>22.643333</td>\n",
       "      <td>16.370968</td>\n",
       "      <td>7.580000e+00</td>\n",
       "      <td>1.416129e+00</td>\n",
       "    </tr>\n",
       "    <tr>\n",
       "      <th>1</th>\n",
       "      <td>4.087097</td>\n",
       "      <td>6.046429</td>\n",
       "      <td>12.445161</td>\n",
       "      <td>17.640000</td>\n",
       "      <td>25.641935</td>\n",
       "      <td>27.706667</td>\n",
       "      <td>30.087097</td>\n",
       "      <td>3.163548e+01</td>\n",
       "      <td>27.100000</td>\n",
       "      <td>21.767742</td>\n",
       "      <td>1.293333e+01</td>\n",
       "      <td>5.274194e+00</td>\n",
       "    </tr>\n",
       "    <tr>\n",
       "      <th>2</th>\n",
       "      <td>-5.064516</td>\n",
       "      <td>-3.217857</td>\n",
       "      <td>2.745161</td>\n",
       "      <td>7.176667</td>\n",
       "      <td>13.729032</td>\n",
       "      <td>18.060000</td>\n",
       "      <td>22.683871</td>\n",
       "      <td>2.359032e+01</td>\n",
       "      <td>18.963333</td>\n",
       "      <td>11.800000</td>\n",
       "      <td>3.100000e+00</td>\n",
       "      <td>-2.603226e+00</td>\n",
       "    </tr>\n",
       "    <tr>\n",
       "      <th>3</th>\n",
       "      <td>0.000000</td>\n",
       "      <td>0.850000</td>\n",
       "      <td>0.864516</td>\n",
       "      <td>1.576667</td>\n",
       "      <td>1.219355</td>\n",
       "      <td>2.480000</td>\n",
       "      <td>6.270968</td>\n",
       "      <td>6.145161e+00</td>\n",
       "      <td>4.660000</td>\n",
       "      <td>1.790323</td>\n",
       "      <td>2.626667e+00</td>\n",
       "      <td>7.290323e-01</td>\n",
       "    </tr>\n",
       "    <tr>\n",
       "      <th>4</th>\n",
       "      <td>943366.065802</td>\n",
       "      <td>750497.840037</td>\n",
       "      <td>815574.909550</td>\n",
       "      <td>761023.413482</td>\n",
       "      <td>870288.223008</td>\n",
       "      <td>874021.721949</td>\n",
       "      <td>957830.030628</td>\n",
       "      <td>1.065119e+06</td>\n",
       "      <td>948378.640427</td>\n",
       "      <td>999166.260380</td>\n",
       "      <td>1.011114e+06</td>\n",
       "      <td>1.140930e+06</td>\n",
       "    </tr>\n",
       "  </tbody>\n",
       "</table>\n",
       "</div>"
      ],
      "text/plain": [
       "               1              2              3              4              5  \\\n",
       "0      -0.896774       0.985714       7.093548      12.120000      19.419355   \n",
       "1       4.087097       6.046429      12.445161      17.640000      25.641935   \n",
       "2      -5.064516      -3.217857       2.745161       7.176667      13.729032   \n",
       "3       0.000000       0.850000       0.864516       1.576667       1.219355   \n",
       "4  943366.065802  750497.840037  815574.909550  761023.413482  870288.223008   \n",
       "\n",
       "               6              7             8              9             10  \\\n",
       "0      22.503333      25.877419  2.719032e+01      22.643333      16.370968   \n",
       "1      27.706667      30.087097  3.163548e+01      27.100000      21.767742   \n",
       "2      18.060000      22.683871  2.359032e+01      18.963333      11.800000   \n",
       "3       2.480000       6.270968  6.145161e+00       4.660000       1.790323   \n",
       "4  874021.721949  957830.030628  1.065119e+06  948378.640427  999166.260380   \n",
       "\n",
       "             11            12  \n",
       "0  7.580000e+00  1.416129e+00  \n",
       "1  1.293333e+01  5.274194e+00  \n",
       "2  3.100000e+00 -2.603226e+00  \n",
       "3  2.626667e+00  7.290323e-01  \n",
       "4  1.011114e+06  1.140930e+06  "
      ]
     },
     "execution_count": 217,
     "metadata": {},
     "output_type": "execute_result"
    }
   ],
   "source": [
    "#월별 날씨데이터에 월별 판매수량 합치기\n",
    "w22"
   ]
  },
  {
   "cell_type": "code",
   "execution_count": 218,
   "metadata": {},
   "outputs": [
    {
     "data": {
      "text/html": [
       "<div>\n",
       "<style scoped>\n",
       "    .dataframe tbody tr th:only-of-type {\n",
       "        vertical-align: middle;\n",
       "    }\n",
       "\n",
       "    .dataframe tbody tr th {\n",
       "        vertical-align: top;\n",
       "    }\n",
       "\n",
       "    .dataframe thead th {\n",
       "        text-align: right;\n",
       "    }\n",
       "</style>\n",
       "<table border=\"1\" class=\"dataframe\">\n",
       "  <thead>\n",
       "    <tr style=\"text-align: right;\">\n",
       "      <th></th>\n",
       "      <th>0</th>\n",
       "      <th>1</th>\n",
       "      <th>2</th>\n",
       "      <th>3</th>\n",
       "      <th>4</th>\n",
       "    </tr>\n",
       "  </thead>\n",
       "  <tbody>\n",
       "    <tr>\n",
       "      <th>1</th>\n",
       "      <td>-0.896774</td>\n",
       "      <td>4.087097</td>\n",
       "      <td>-5.064516</td>\n",
       "      <td>0.000000</td>\n",
       "      <td>9.433661e+05</td>\n",
       "    </tr>\n",
       "    <tr>\n",
       "      <th>2</th>\n",
       "      <td>0.985714</td>\n",
       "      <td>6.046429</td>\n",
       "      <td>-3.217857</td>\n",
       "      <td>0.850000</td>\n",
       "      <td>7.504978e+05</td>\n",
       "    </tr>\n",
       "    <tr>\n",
       "      <th>3</th>\n",
       "      <td>7.093548</td>\n",
       "      <td>12.445161</td>\n",
       "      <td>2.745161</td>\n",
       "      <td>0.864516</td>\n",
       "      <td>8.155749e+05</td>\n",
       "    </tr>\n",
       "    <tr>\n",
       "      <th>4</th>\n",
       "      <td>12.120000</td>\n",
       "      <td>17.640000</td>\n",
       "      <td>7.176667</td>\n",
       "      <td>1.576667</td>\n",
       "      <td>7.610234e+05</td>\n",
       "    </tr>\n",
       "    <tr>\n",
       "      <th>5</th>\n",
       "      <td>19.419355</td>\n",
       "      <td>25.641935</td>\n",
       "      <td>13.729032</td>\n",
       "      <td>1.219355</td>\n",
       "      <td>8.702882e+05</td>\n",
       "    </tr>\n",
       "    <tr>\n",
       "      <th>6</th>\n",
       "      <td>22.503333</td>\n",
       "      <td>27.706667</td>\n",
       "      <td>18.060000</td>\n",
       "      <td>2.480000</td>\n",
       "      <td>8.740217e+05</td>\n",
       "    </tr>\n",
       "    <tr>\n",
       "      <th>7</th>\n",
       "      <td>25.877419</td>\n",
       "      <td>30.087097</td>\n",
       "      <td>22.683871</td>\n",
       "      <td>6.270968</td>\n",
       "      <td>9.578300e+05</td>\n",
       "    </tr>\n",
       "    <tr>\n",
       "      <th>8</th>\n",
       "      <td>27.190323</td>\n",
       "      <td>31.635484</td>\n",
       "      <td>23.590323</td>\n",
       "      <td>6.145161</td>\n",
       "      <td>1.065119e+06</td>\n",
       "    </tr>\n",
       "    <tr>\n",
       "      <th>9</th>\n",
       "      <td>22.643333</td>\n",
       "      <td>27.100000</td>\n",
       "      <td>18.963333</td>\n",
       "      <td>4.660000</td>\n",
       "      <td>9.483786e+05</td>\n",
       "    </tr>\n",
       "    <tr>\n",
       "      <th>10</th>\n",
       "      <td>16.370968</td>\n",
       "      <td>21.767742</td>\n",
       "      <td>11.800000</td>\n",
       "      <td>1.790323</td>\n",
       "      <td>9.991663e+05</td>\n",
       "    </tr>\n",
       "    <tr>\n",
       "      <th>11</th>\n",
       "      <td>7.580000</td>\n",
       "      <td>12.933333</td>\n",
       "      <td>3.100000</td>\n",
       "      <td>2.626667</td>\n",
       "      <td>1.011114e+06</td>\n",
       "    </tr>\n",
       "    <tr>\n",
       "      <th>12</th>\n",
       "      <td>1.416129</td>\n",
       "      <td>5.274194</td>\n",
       "      <td>-2.603226</td>\n",
       "      <td>0.729032</td>\n",
       "      <td>1.140930e+06</td>\n",
       "    </tr>\n",
       "  </tbody>\n",
       "</table>\n",
       "</div>"
      ],
      "text/plain": [
       "            0          1          2         3             4\n",
       "1   -0.896774   4.087097  -5.064516  0.000000  9.433661e+05\n",
       "2    0.985714   6.046429  -3.217857  0.850000  7.504978e+05\n",
       "3    7.093548  12.445161   2.745161  0.864516  8.155749e+05\n",
       "4   12.120000  17.640000   7.176667  1.576667  7.610234e+05\n",
       "5   19.419355  25.641935  13.729032  1.219355  8.702882e+05\n",
       "6   22.503333  27.706667  18.060000  2.480000  8.740217e+05\n",
       "7   25.877419  30.087097  22.683871  6.270968  9.578300e+05\n",
       "8   27.190323  31.635484  23.590323  6.145161  1.065119e+06\n",
       "9   22.643333  27.100000  18.963333  4.660000  9.483786e+05\n",
       "10  16.370968  21.767742  11.800000  1.790323  9.991663e+05\n",
       "11   7.580000  12.933333   3.100000  2.626667  1.011114e+06\n",
       "12   1.416129   5.274194  -2.603226  0.729032  1.140930e+06"
      ]
     },
     "execution_count": 218,
     "metadata": {},
     "output_type": "execute_result"
    }
   ],
   "source": [
    "#행렬 바꾸기\n",
    "ww2 = np.transpose(w22)\n",
    "ww2.to_csv('ww2.csv', encoding='cp949')\n",
    "ww2"
   ]
  },
  {
   "cell_type": "code",
   "execution_count": 219,
   "metadata": {},
   "outputs": [],
   "source": [
    "ww2.columns=['평균기온','최고기온','최저기온','평균운량','판매수량']"
   ]
  },
  {
   "cell_type": "code",
   "execution_count": 220,
   "metadata": {},
   "outputs": [
    {
     "data": {
      "text/html": [
       "<div>\n",
       "<style scoped>\n",
       "    .dataframe tbody tr th:only-of-type {\n",
       "        vertical-align: middle;\n",
       "    }\n",
       "\n",
       "    .dataframe tbody tr th {\n",
       "        vertical-align: top;\n",
       "    }\n",
       "\n",
       "    .dataframe thead th {\n",
       "        text-align: right;\n",
       "    }\n",
       "</style>\n",
       "<table border=\"1\" class=\"dataframe\">\n",
       "  <thead>\n",
       "    <tr style=\"text-align: right;\">\n",
       "      <th></th>\n",
       "      <th>평균기온</th>\n",
       "      <th>최고기온</th>\n",
       "      <th>최저기온</th>\n",
       "      <th>평균운량</th>\n",
       "      <th>판매수량</th>\n",
       "    </tr>\n",
       "  </thead>\n",
       "  <tbody>\n",
       "    <tr>\n",
       "      <th>1</th>\n",
       "      <td>-0.896774</td>\n",
       "      <td>4.087097</td>\n",
       "      <td>-5.064516</td>\n",
       "      <td>0.000000</td>\n",
       "      <td>9.433661e+05</td>\n",
       "    </tr>\n",
       "    <tr>\n",
       "      <th>2</th>\n",
       "      <td>0.985714</td>\n",
       "      <td>6.046429</td>\n",
       "      <td>-3.217857</td>\n",
       "      <td>0.850000</td>\n",
       "      <td>7.504978e+05</td>\n",
       "    </tr>\n",
       "    <tr>\n",
       "      <th>3</th>\n",
       "      <td>7.093548</td>\n",
       "      <td>12.445161</td>\n",
       "      <td>2.745161</td>\n",
       "      <td>0.864516</td>\n",
       "      <td>8.155749e+05</td>\n",
       "    </tr>\n",
       "    <tr>\n",
       "      <th>4</th>\n",
       "      <td>12.120000</td>\n",
       "      <td>17.640000</td>\n",
       "      <td>7.176667</td>\n",
       "      <td>1.576667</td>\n",
       "      <td>7.610234e+05</td>\n",
       "    </tr>\n",
       "    <tr>\n",
       "      <th>5</th>\n",
       "      <td>19.419355</td>\n",
       "      <td>25.641935</td>\n",
       "      <td>13.729032</td>\n",
       "      <td>1.219355</td>\n",
       "      <td>8.702882e+05</td>\n",
       "    </tr>\n",
       "    <tr>\n",
       "      <th>6</th>\n",
       "      <td>22.503333</td>\n",
       "      <td>27.706667</td>\n",
       "      <td>18.060000</td>\n",
       "      <td>2.480000</td>\n",
       "      <td>8.740217e+05</td>\n",
       "    </tr>\n",
       "    <tr>\n",
       "      <th>7</th>\n",
       "      <td>25.877419</td>\n",
       "      <td>30.087097</td>\n",
       "      <td>22.683871</td>\n",
       "      <td>6.270968</td>\n",
       "      <td>9.578300e+05</td>\n",
       "    </tr>\n",
       "    <tr>\n",
       "      <th>8</th>\n",
       "      <td>27.190323</td>\n",
       "      <td>31.635484</td>\n",
       "      <td>23.590323</td>\n",
       "      <td>6.145161</td>\n",
       "      <td>1.065119e+06</td>\n",
       "    </tr>\n",
       "    <tr>\n",
       "      <th>9</th>\n",
       "      <td>22.643333</td>\n",
       "      <td>27.100000</td>\n",
       "      <td>18.963333</td>\n",
       "      <td>4.660000</td>\n",
       "      <td>9.483786e+05</td>\n",
       "    </tr>\n",
       "    <tr>\n",
       "      <th>10</th>\n",
       "      <td>16.370968</td>\n",
       "      <td>21.767742</td>\n",
       "      <td>11.800000</td>\n",
       "      <td>1.790323</td>\n",
       "      <td>9.991663e+05</td>\n",
       "    </tr>\n",
       "    <tr>\n",
       "      <th>11</th>\n",
       "      <td>7.580000</td>\n",
       "      <td>12.933333</td>\n",
       "      <td>3.100000</td>\n",
       "      <td>2.626667</td>\n",
       "      <td>1.011114e+06</td>\n",
       "    </tr>\n",
       "    <tr>\n",
       "      <th>12</th>\n",
       "      <td>1.416129</td>\n",
       "      <td>5.274194</td>\n",
       "      <td>-2.603226</td>\n",
       "      <td>0.729032</td>\n",
       "      <td>1.140930e+06</td>\n",
       "    </tr>\n",
       "  </tbody>\n",
       "</table>\n",
       "</div>"
      ],
      "text/plain": [
       "         평균기온       최고기온       최저기온      평균운량          판매수량\n",
       "1   -0.896774   4.087097  -5.064516  0.000000  9.433661e+05\n",
       "2    0.985714   6.046429  -3.217857  0.850000  7.504978e+05\n",
       "3    7.093548  12.445161   2.745161  0.864516  8.155749e+05\n",
       "4   12.120000  17.640000   7.176667  1.576667  7.610234e+05\n",
       "5   19.419355  25.641935  13.729032  1.219355  8.702882e+05\n",
       "6   22.503333  27.706667  18.060000  2.480000  8.740217e+05\n",
       "7   25.877419  30.087097  22.683871  6.270968  9.578300e+05\n",
       "8   27.190323  31.635484  23.590323  6.145161  1.065119e+06\n",
       "9   22.643333  27.100000  18.963333  4.660000  9.483786e+05\n",
       "10  16.370968  21.767742  11.800000  1.790323  9.991663e+05\n",
       "11   7.580000  12.933333   3.100000  2.626667  1.011114e+06\n",
       "12   1.416129   5.274194  -2.603226  0.729032  1.140930e+06"
      ]
     },
     "execution_count": 220,
     "metadata": {},
     "output_type": "execute_result"
    }
   ],
   "source": [
    "ww2"
   ]
  },
  {
   "cell_type": "code",
   "execution_count": 221,
   "metadata": {},
   "outputs": [
    {
     "name": "stdout",
     "output_type": "stream",
     "text": [
      "          평균기온      최고기온      최저기온      평균운량      판매수량\n",
      "평균기온  1.000000  0.997909  0.998079  0.821202  0.127343\n",
      "최고기온  0.997909  1.000000  0.992414  0.792599  0.088762\n",
      "최저기온  0.998079  0.992414  1.000000  0.849585  0.151633\n",
      "평균운량  0.821202  0.792599  0.849585  1.000000  0.325046\n",
      "판매수량  0.127343  0.088762  0.151633  0.325046  1.000000\n"
     ]
    }
   ],
   "source": [
    "corrMatt =ww2[[\"평균기온\",\"최고기온\",\"최저기온\",\"평균운량\",\"판매수량\"]]\n",
    "corrMatt = corrMatt.corr()\n",
    "print(corrMatt)\n",
    "\n",
    "mask = np.array(corrMatt)\n",
    "mask[np.tril_indices_from(mask)] = False    #연관관계"
   ]
  },
  {
   "cell_type": "code",
   "execution_count": 222,
   "metadata": {},
   "outputs": [
    {
     "data": {
      "text/plain": [
       "<AxesSubplot:>"
      ]
     },
     "execution_count": 222,
     "metadata": {},
     "output_type": "execute_result"
    },
    {
     "data": {
      "image/png": "[encoded data removed]",
      "text/plain": [
       "<Figure size 1440x720 with 2 Axes>"
      ]
     },
     "metadata": {
      "needs_background": "light"
     },
     "output_type": "display_data"
    }
   ],
   "source": [
    "fig, ax = plt.subplots()\n",
    "fig.set_size_inches(20,10)\n",
    "sns.heatmap(corrMatt, mask=mask,vmax=.8, square=True,annot=True)"
   ]
  },
  {
   "cell_type": "markdown",
   "metadata": {},
   "source": [
    "## 판매수량은 평균운량과 가장 높은 상관관계 (맞게한건진 모르겠음..)\n",
    "아마 비나 눈오는날 더 많이 팔렸을듯"
   ]
  },
  {
   "cell_type": "code",
   "execution_count": null,
   "metadata": {},
   "outputs": [],
   "source": []
  }
 ],
 "metadata": {
  "kernelspec": {
   "display_name": "Python 3",
   "language": "python",
   "name": "python3"
  },
  "language_info": {
   "codemirror_mode": {
    "name": "ipython",
    "version": 3
   },
   "file_extension": ".py",
   "mimetype": "text/x-python",
   "name": "python",
   "nbconvert_exporter": "python",
   "pygments_lexer": "ipython3",
   "version": "3.7.4"
  }
 },
 "nbformat": 4,
 "nbformat_minor": 2
}
